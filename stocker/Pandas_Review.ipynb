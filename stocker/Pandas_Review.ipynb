{
 "cells": [
  {
   "cell_type": "code",
   "execution_count": 6,
   "metadata": {},
   "outputs": [],
   "source": [
    "''' Based on https://www.datacamp.com/community/tutorials/pandas-tutorial-dataframe-python'''\n",
    "\n",
    "import pandas as pd\n",
    "import numpy as np"
   ]
  },
  {
   "cell_type": "code",
   "execution_count": 7,
   "metadata": {},
   "outputs": [],
   "source": [
    "col1 = pd.Series([1,2,3,4,5])\n",
    "col2 = pd.Series(['2010','2011','2012','2013','2014','2015'])"
   ]
  },
  {
   "cell_type": "code",
   "execution_count": 8,
   "metadata": {},
   "outputs": [],
   "source": [
    "df = pd.DataFrame([[4, 9],] * 3, columns=['A', 'B'])"
   ]
  },
  {
   "cell_type": "code",
   "execution_count": 9,
   "metadata": {},
   "outputs": [],
   "source": [
    "df = pd.DataFrame([[1,2],],columns = ['numbers','Date'])"
   ]
  },
  {
   "cell_type": "code",
   "execution_count": 10,
   "metadata": {},
   "outputs": [
    {
     "data": {
      "text/html": [
       "<div>\n",
       "<style scoped>\n",
       "    .dataframe tbody tr th:only-of-type {\n",
       "        vertical-align: middle;\n",
       "    }\n",
       "\n",
       "    .dataframe tbody tr th {\n",
       "        vertical-align: top;\n",
       "    }\n",
       "\n",
       "    .dataframe thead th {\n",
       "        text-align: right;\n",
       "    }\n",
       "</style>\n",
       "<table border=\"1\" class=\"dataframe\">\n",
       "  <thead>\n",
       "    <tr style=\"text-align: right;\">\n",
       "      <th></th>\n",
       "      <th>numbers</th>\n",
       "      <th>Date</th>\n",
       "    </tr>\n",
       "  </thead>\n",
       "  <tbody>\n",
       "    <tr>\n",
       "      <th>0</th>\n",
       "      <td>1</td>\n",
       "      <td>2</td>\n",
       "    </tr>\n",
       "  </tbody>\n",
       "</table>\n",
       "</div>"
      ],
      "text/plain": [
       "   numbers  Date\n",
       "0        1     2"
      ]
     },
     "execution_count": 10,
     "metadata": {},
     "output_type": "execute_result"
    }
   ],
   "source": [
    "df"
   ]
  },
  {
   "cell_type": "code",
   "execution_count": 11,
   "metadata": {},
   "outputs": [
    {
     "data": {
      "text/plain": [
       "'\\nTutorial begins here:\\nDateframes\\n\\nEach row of these grids corresponds to measurements or values of an instance, \\nwhile each column is a vector containing data for a specific variable\\n'"
      ]
     },
     "execution_count": 11,
     "metadata": {},
     "output_type": "execute_result"
    }
   ],
   "source": [
    "'''\n",
    "Tutorial begins here:\n",
    "Dateframes\n",
    "\n",
    "Each row of these grids corresponds to measurements or values of an instance, \n",
    "while each column is a vector containing data for a specific variable\n",
    "'''"
   ]
  },
  {
   "cell_type": "code",
   "execution_count": 12,
   "metadata": {},
   "outputs": [
    {
     "name": "stdout",
     "output_type": "stream",
     "text": [
      "     Col1 Col2\n",
      "Row1    1    2\n",
      "Row2    3    4\n"
     ]
    }
   ],
   "source": [
    "data = np.array([['','Col1','Col2'],\n",
    "                ['Row1',1,2],\n",
    "                ['Row2',3,4]])\n",
    "    \n",
    "'''Wrong\n",
    "data = data[1:,1:]; print('data:', data)\n",
    "\n",
    "index = data[1:,0]; print('index:', index)\n",
    "\n",
    "columns = data[0,1:]; print('columns:',columns)\n",
    "''' \n",
    "\n",
    "''' Lesson here is data, index and columns are keywords - you should not assign values to them outside of pd.DataFrame\n",
    "print(pd.DataFrame(data,\n",
    "                   index,\n",
    "                   columns))\n",
    "'''\n",
    "print(pd.DataFrame(data=data[1:,1:],\n",
    "                  index=data[1:,0],\n",
    "                  columns=data[0,1:]))"
   ]
  },
  {
   "cell_type": "code",
   "execution_count": 21,
   "metadata": {},
   "outputs": [
    {
     "name": "stdout",
     "output_type": "stream",
     "text": [
      "   A  B  C\n",
      "0  1  2  3\n",
      "1  4  5  6\n"
     ]
    }
   ],
   "source": [
    "'''SELECTING DATA FROM THE DATAFRAME'''\n",
    "\n",
    "df = pd.DataFrame(np.array([[1, 2, 3], [4, 5, 6]]),columns = ['A','B','C'])\n",
    "\n",
    "print(df)\n"
   ]
  },
  {
   "cell_type": "code",
   "execution_count": 30,
   "metadata": {},
   "outputs": [
    {
     "name": "stdout",
     "output_type": "stream",
     "text": [
      "1\n",
      "1\n",
      "2\n",
      "1\n"
     ]
    }
   ],
   "source": [
    "# Using `iloc[]`\n",
    "print(df.iloc[0][0])\n",
    "\n",
    "# Using `loc[]`\n",
    "print(df.loc[0]['A'])\n",
    "\n",
    "# Using `at[]`\n",
    "print(df.at[0,'B'])\n",
    "\n",
    "# Using `iat[]`\n",
    "print(df.iat[0,0])"
   ]
  },
  {
   "cell_type": "code",
   "execution_count": null,
   "metadata": {},
   "outputs": [],
   "source": [
    "''' TO SELECT ENTIRE ROW AND COLUMNS'''\n",
    "''' Note: indexes get printed too in this example'''"
   ]
  },
  {
   "cell_type": "code",
   "execution_count": 37,
   "metadata": {},
   "outputs": [
    {
     "name": "stdout",
     "output_type": "stream",
     "text": [
      "A    1\n",
      "B    2\n",
      "C    3\n",
      "Name: 0, dtype: int32\n",
      "break\n",
      "0    2\n",
      "1    5\n",
      "Name: B, dtype: int32\n"
     ]
    },
    {
     "data": {
      "text/plain": [
       "' Index get printed also'"
      ]
     },
     "execution_count": 37,
     "metadata": {},
     "output_type": "execute_result"
    }
   ],
   "source": [
    "# Use `iloc[]` to select row `0`\n",
    "print(df.iloc[0]); ''' Column names get printed also'''\n",
    "\n",
    "\n",
    "print ('break')\n",
    "\n",
    "\n",
    "# Use `loc[]` to select column `'A'`\n",
    "print(df.loc[:,'B']); ''' Index get printed also'''"
   ]
  },
  {
   "cell_type": "code",
   "execution_count": 56,
   "metadata": {},
   "outputs": [
    {
     "name": "stdout",
     "output_type": "stream",
     "text": [
      "        category    store   price  testscore\n",
      "0       Cleaning  Walmart   11.42          4\n",
      "1       Cleaning      Dia   23.50          3\n",
      "2  Entertainment  Walmart   19.99          5\n",
      "3  Entertainment     Fnac   15.95          7\n",
      "4           Tech      Dia   55.75          5\n",
      "5           Tech  Walmart  111.55          8\n",
      "\n",
      "\n",
      "values: this argument allows you to specify which values of your original DataFrame you want to see in your pivot table. \n",
      "\n",
      "columns: whatever you pass to this argument will become a column in your resulting table.\n",
      "\n",
      "index: whatever you pass to this argument will become an index in your resulting table.\n",
      "\n",
      "store            Dia   Fnac  Walmart\n",
      "category                            \n",
      "Cleaning       23.50    NaN    11.42\n",
      "Entertainment    NaN  15.95    19.99\n",
      "Tech           55.75    NaN   111.55\n"
     ]
    }
   ],
   "source": [
    "products = pd.DataFrame({'category': ['Cleaning', 'Cleaning', 'Entertainment', 'Entertainment', 'Tech', 'Tech'],\n",
    "        'store': ['Walmart', 'Dia', 'Walmart', 'Fnac', 'Dia','Walmart'],\n",
    "        'price':[11.42, 23.50, 19.99, 15.95, 55.75, 111.55],\n",
    "        'testscore': [4, 3, 5, 7, 5, 8]})\n",
    "\n",
    "print (products)\n",
    "\n",
    "print ('\\n')\n",
    "print ('values: this argument allows you to specify which values of your original DataFrame you want to see in your pivot table. \\n');\n",
    "print ('columns: whatever you pass to this argument will become a column in your resulting table.\\n')\n",
    "print ('index: whatever you pass to this argument will become an index in your resulting table.\\n')\n",
    "pivot_products = products.pivot(index = 'category', columns='store',values='price'); #values='price')\n",
    "\n",
    "print(pivot_products)"
   ]
  },
  {
   "cell_type": "code",
   "execution_count": 58,
   "metadata": {},
   "outputs": [
    {
     "data": {
      "text/plain": [
       "' Note: prices got reorganized into a 2D matrix with index/rows being category and the columns are store'"
      ]
     },
     "execution_count": 58,
     "metadata": {},
     "output_type": "execute_result"
    }
   ],
   "source": [
    "''' Note: prices got reorganized into a 2D matrix with index/rows being category and the columns are store'''"
   ]
  },
  {
   "cell_type": "code",
   "execution_count": null,
   "metadata": {},
   "outputs": [],
   "source": []
  }
 ],
 "metadata": {
  "kernelspec": {
   "display_name": "Python 3",
   "language": "python",
   "name": "python3"
  },
  "language_info": {
   "codemirror_mode": {
    "name": "ipython",
    "version": 3
   },
   "file_extension": ".py",
   "mimetype": "text/x-python",
   "name": "python",
   "nbconvert_exporter": "python",
   "pygments_lexer": "ipython3",
   "version": "3.6.5"
  }
 },
 "nbformat": 4,
 "nbformat_minor": 2
}
